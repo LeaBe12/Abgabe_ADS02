{
 "cells": [
  {
   "cell_type": "code",
   "execution_count": 3,
   "metadata": {},
   "outputs": [],
   "source": [
    "# Import\n",
    "import pandas as pd\n",
    "import joblib\n",
    "import matplotlib.pyplot as plt\n",
    "import matplotlib.patches as patches"
   ]
  },
  {
   "cell_type": "markdown",
   "metadata": {},
   "source": [
    "### Code für die visuelle Darstellung\n",
    "Eingabe der Daten folgt im nächsten Abschnitt"
   ]
  },
  {
   "cell_type": "code",
   "execution_count": 4,
   "metadata": {},
   "outputs": [],
   "source": [
    "# Modell und Pipeline laden\n",
    "pipeline = joblib.load('Bestmodel.pkl') \n",
    "\n",
    "def calculate_price(stories, year_built, nr_of_rms, fin_sqft, units, bdrms, fbath, hbath, lotsize, year_sold, month_sold):\n",
    "    \"\"\"\n",
    "    Berechnet den Verkaufspreis basierend auf den Eingabewerten der Features.\n",
    "    \"\"\"\n",
    "    # Erstellen eines DataFrames mit den Eingabewerten\n",
    "    input_data = pd.DataFrame([{\n",
    "        'Stories': stories,\n",
    "        'Year_Built': year_built,\n",
    "        'Nr_of_rms': nr_of_rms,\n",
    "        'Fin_sqft': fin_sqft,\n",
    "        'Units': units,\n",
    "        'Bdrms': bdrms,\n",
    "        'Fbath': fbath,\n",
    "        'Hbath': hbath,\n",
    "        'Lotsize': lotsize,\n",
    "        'year_sold': year_sold,\n",
    "        'month_sold': month_sold\n",
    "    }])\n",
    "    \n",
    "    # Vorhersage mit der Pipeline\n",
    "    predicted_price = pipeline.predict(input_data)\n",
    "    \n",
    "    return predicted_price[0]\n",
    "\n",
    "def visualize_prediction(predicted_price):\n",
    "    \"\"\"\n",
    "    Visualisiert den vorhergesagten Verkaufspreis inkl. Rahmen und farbiger Textausgabe\n",
    "    \"\"\"\n",
    "    fig, ax = plt.subplots(figsize=(8, 4))\n",
    "    \n",
    "    rect = patches.Rectangle(\n",
    "        (0.05, 0.2), 0.9, 0.6, \n",
    "        linewidth=2, edgecolor='lightgrey', facecolor='none'\n",
    "    )\n",
    "    ax.add_patch(rect)\n",
    "    \n",
    "    plt.text(\n",
    "        0.5, 0.6, 'Geschätzter Verkaufspreis', \n",
    "        ha='center', va='center', \n",
    "        fontsize=20, fontweight='bold', color='lightgrey'\n",
    "    )\n",
    "    \n",
    "    plt.text(\n",
    "        0.5, 0.4, f\"${predicted_price:,.2f}\", \n",
    "        ha='center', va='center', \n",
    "        fontsize=30, fontweight='bold', color='cornflowerblue'\n",
    "    )\n",
    "    \n",
    "    plt.axis('off')\n",
    "    \n",
    "    plt.show()"
   ]
  },
  {
   "cell_type": "markdown",
   "metadata": {},
   "source": [
    "## Eingabemaske\n",
    "Hier werden die Daten eingegeben, der geschätzte Verkaufspreis wird anschließend ausgegeben"
   ]
  },
  {
   "cell_type": "code",
   "execution_count": 5,
   "metadata": {},
   "outputs": [
    {
     "data": {
      "image/png": "[encoded data removed]",
      "text/plain": [
       "<Figure size 800x400 with 1 Axes>"
      ]
     },
     "metadata": {},
     "output_type": "display_data"
    }
   ],
   "source": [
    "# Hier Werte eingeben, um den jeweiligen Verkaufspreis zu bestimmen\n",
    "if __name__ == \"__main__\":\n",
    "    # Hier spezifische Werte eintragen:\n",
    "    predicted_price = calculate_price(\n",
    "        stories=2,\n",
    "        year_built=1999,\n",
    "        nr_of_rms=7,\n",
    "        fin_sqft=800,\n",
    "        units=3,\n",
    "        bdrms=3,\n",
    "        fbath=2,\n",
    "        hbath=1,\n",
    "        lotsize=4000,\n",
    "        year_sold=2027,\n",
    "        month_sold=12\n",
    "    )\n",
    "    \n",
    "    # Visualisierung des geschätzten Verkaufspreises\n",
    "    visualize_prediction(predicted_price)\n"
   ]
  }
 ],
 "metadata": {
  "kernelspec": {
   "display_name": "ads_ml",
   "language": "python",
   "name": "python3"
  },
  "language_info": {
   "codemirror_mode": {
    "name": "ipython",
    "version": 3
   },
   "file_extension": ".py",
   "mimetype": "text/x-python",
   "name": "python",
   "nbconvert_exporter": "python",
   "pygments_lexer": "ipython3",
   "version": "3.11.9"
  }
 },
 "nbformat": 4,
 "nbformat_minor": 2
}
